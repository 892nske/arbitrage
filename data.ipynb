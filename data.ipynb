{
 "cells": [
  {
   "cell_type": "code",
   "execution_count": 1,
   "id": "4d6f17a1-47b1-4a75-b58d-ce25248a0bf9",
   "metadata": {},
   "outputs": [],
   "source": [
    "import ccxt\n",
    "import pandas as pd\n",
    "from datetime import datetime, timedelta"
   ]
  },
  {
   "cell_type": "code",
   "execution_count": 2,
   "id": "e48a5724-7f14-4e1c-a1de-3c9c24a70f22",
   "metadata": {},
   "outputs": [],
   "source": [
    "# bybitのAPIに接続\n",
    "exchange = ccxt.bybit()"
   ]
  },
  {
   "cell_type": "code",
   "execution_count": 3,
   "id": "3f1eeb7f-24ea-4faa-8988-8b9f243168b3",
   "metadata": {},
   "outputs": [],
   "source": [
    "# 開始日時と終了日時を指定（ここでは例として2022年1月1日から2022年12月31日までを指定）\n",
    "symbol = 'BTCUSDT'\n",
    "start_date = datetime(2024, 4, 1)\n",
    "end_date = datetime(2024, 4, 30)\n",
    "start_timestamp = int(start_date.timestamp() * 1000)\n",
    "end_timestamp = int(end_date.timestamp() * 1000)\n",
    "\n",
    "data = []"
   ]
  },
  {
   "cell_type": "code",
   "execution_count": 4,
   "id": "74b4354e-bb51-4d64-8b2d-8d4fb8b34419",
   "metadata": {},
   "outputs": [
    {
     "name": "stdout",
     "output_type": "stream",
     "text": [
      "            Timestamp     Open     High      Low    Close   Volume\n",
      "0 2024-03-31 15:00:00  70612.0  70612.0  70568.4  70575.5   20.483\n",
      "1 2024-03-31 15:01:00  70575.5  70575.5  70546.1  70546.2   70.430\n",
      "2 2024-03-31 15:02:00  70546.2  70546.2  70466.1  70510.0  507.840\n",
      "3 2024-03-31 15:03:00  70510.0  70529.0  70488.0  70488.1   24.865\n",
      "4 2024-03-31 15:04:00  70488.1  70494.0  70469.5  70494.0   25.686\n"
     ]
    }
   ],
   "source": [
    "while start_timestamp < end_timestamp:\n",
    "    try:\n",
    "        new_data = exchange.fetch_ohlcv(symbol, timeframe='1m', since=start_timestamp, limit=1000)\n",
    "        if new_data:\n",
    "            start_timestamp = new_data[-1][0] + 1\n",
    "            data += new_data\n",
    "        else:\n",
    "            break\n",
    "    except Exception as e:\n",
    "        print(f\"An error occurred: {e}\")\n",
    "        break\n",
    "\n",
    "# データをDataFrameに変換\n",
    "df = pd.DataFrame(data, columns=['Timestamp', 'Open', 'High', 'Low', 'Close', 'Volume'])\n",
    "df['Timestamp'] = pd.to_datetime(df['Timestamp'], unit='ms')\n",
    "\n",
    "print(df.head())"
   ]
  },
  {
   "cell_type": "code",
   "execution_count": 5,
   "id": "6ce60e13-776c-48c8-a893-5b731a4b7729",
   "metadata": {},
   "outputs": [],
   "source": [
    "filename = 'bybit_' + symbol + '_' + start_date.strftime('%Y%m%d') + '_' + end_date.strftime('%Y%m%d') + '.csv'\n",
    "df.to_csv(filename)"
   ]
  },
  {
   "cell_type": "code",
   "execution_count": 3,
   "id": "1d8bf883-a677-4e6e-be84-e24a92fa591d",
   "metadata": {},
   "outputs": [],
   "source": [
    "def load_data(symbol,start_date,end_date,filename):\n",
    "    exchange = ccxt.bybit()\n",
    "    start_timestamp = int(start_date.timestamp() * 1000)\n",
    "    end_timestamp = int(end_date.timestamp() * 1000)\n",
    "    data = []\n",
    "    while start_timestamp < end_timestamp:\n",
    "        try:\n",
    "            new_data = exchange.fetch_ohlcv(symbol, timeframe='1m', since=start_timestamp, limit=1000)\n",
    "            if new_data:\n",
    "                start_timestamp = new_data[-1][0] + 1\n",
    "                data += new_data\n",
    "            else:\n",
    "                break\n",
    "        except Exception as e:\n",
    "            print(f\"An error occurred: {e}\")\n",
    "            break\n",
    "            \n",
    "    # データをDataFrameに変換\n",
    "    df = pd.DataFrame(data, columns=['Timestamp', 'Open', 'High', 'Low', 'Close', 'Volume'])\n",
    "    df['Timestamp'] = pd.to_datetime(df['Timestamp'], unit='ms')\n",
    "    filename = './data/bybit_' + filename + '_' + start_date.strftime('%Y%m%d') + '_' + end_date.strftime('%Y%m%d') + '.csv'\n",
    "    df.to_csv(filename)"
   ]
  },
  {
   "cell_type": "code",
   "execution_count": 22,
   "id": "976b168e-a028-42e1-b37e-ca719787e1db",
   "metadata": {},
   "outputs": [],
   "source": [
    "load_data('BTCUSD',datetime(2024, 4, 1),datetime(2024, 4, 30),'btc_usd_inverse')"
   ]
  },
  {
   "cell_type": "code",
   "execution_count": 4,
   "id": "88babf77-7c57-4766-a10a-ec4dfa20ece3",
   "metadata": {},
   "outputs": [],
   "source": [
    "symbols=['BTC','ETH','SOL','XRP']\n",
    "for symbol in symbols:\n",
    "    ticker = symbol + '/USDT'\n",
    "    filename = symbol + '_usdt_spot'\n",
    "    load_data(ticker,datetime(2024, 4, 1),datetime(2024, 4, 30),filename)\n",
    "    ticker = symbol + 'USDT'\n",
    "    filename = symbol + '_usdt_perp'\n",
    "    load_data(ticker,datetime(2024, 4, 1),datetime(2024, 4, 30),filename)\n",
    "    ticker = symbol + 'USDC'\n",
    "    filename = symbol + '_usdc_perp'\n",
    "    load_data(ticker,datetime(2024, 4, 1),datetime(2024, 4, 30),filename)\n",
    "    ticker = symbol + 'USD'\n",
    "    filename = symbol + '_usd_inverse'\n",
    "    load_data(ticker,datetime(2024, 4, 1),datetime(2024, 4, 30),filename)"
   ]
  },
  {
   "cell_type": "code",
   "execution_count": null,
   "id": "b714153b-b99e-49f3-a471-7b6dee9c565d",
   "metadata": {},
   "outputs": [],
   "source": []
  }
 ],
 "metadata": {
  "kernelspec": {
   "display_name": "Python 3 (ipykernel)",
   "language": "python",
   "name": "python3"
  },
  "language_info": {
   "codemirror_mode": {
    "name": "ipython",
    "version": 3
   },
   "file_extension": ".py",
   "mimetype": "text/x-python",
   "name": "python",
   "nbconvert_exporter": "python",
   "pygments_lexer": "ipython3",
   "version": "3.8.13"
  }
 },
 "nbformat": 4,
 "nbformat_minor": 5
}
