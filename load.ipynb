{
 "cells": [
  {
   "cell_type": "code",
   "execution_count": 1,
   "id": "c4b7caa6-91d8-4170-8a26-e2e5b3495278",
   "metadata": {},
   "outputs": [],
   "source": [
    "import ccxt\n",
    "import pandas as pd\n",
    "from datetime import datetime"
   ]
  },
  {
   "cell_type": "code",
   "execution_count": 2,
   "id": "dcc8c206-7790-491d-b617-033051521723",
   "metadata": {},
   "outputs": [],
   "source": [
    "def fetch_ohlcv(symbol, start_date, end_date):\n",
    "    exchange = ccxt.bybit()\n",
    "    \n",
    "    start_timestamp = int(datetime.strptime(start_date, '%Y-%m-%d %H:%M:%S').timestamp() * 1000)\n",
    "    end_timestamp = int(datetime.strptime(end_date, '%Y-%m-%d %H:%M:%S').timestamp() * 1000)\n",
    "    \n",
    "    data = []\n",
    "    \n",
    "    while start_timestamp < end_timestamp:\n",
    "        try:\n",
    "            new_data = exchange.fetch_ohlcv(symbol, timeframe='1m', since=start_timestamp, limit=1000)\n",
    "            if new_data:\n",
    "                start_timestamp = new_data[-1][0] + 1\n",
    "                data += new_data\n",
    "            else:\n",
    "                break\n",
    "        except Exception as e:\n",
    "            print(f\"An error occurred: {e}\")\n",
    "            break\n",
    "\n",
    "    df = pd.DataFrame(data, columns=['Timestamp', 'Open', 'High', 'Low', 'Close', 'Volume'])\n",
    "    df['Timestamp'] = pd.to_datetime(df['Timestamp'], unit='ms')\n",
    "\n",
    "    return df"
   ]
  },
  {
   "cell_type": "code",
   "execution_count": 3,
   "id": "4da75a29-ab71-4843-850c-e30e62a77f12",
   "metadata": {},
   "outputs": [
    {
     "name": "stdout",
     "output_type": "stream",
     "text": [
      "            Timestamp     Open     High      Low    Close        Volume\n",
      "0 2021-12-31 15:00:00  47984.5  48045.5  47984.5  48029.0  6.842295e+06\n",
      "1 2021-12-31 15:01:00  48029.0  48029.0  47988.5  47989.0  4.639554e+06\n",
      "2 2021-12-31 15:02:00  47989.0  47989.0  47984.5  47985.0  1.963895e+06\n",
      "3 2021-12-31 15:03:00  47985.0  47985.0  47983.5  47983.5  4.946675e+05\n",
      "4 2021-12-31 15:04:00  47983.5  47984.0  47960.0  47961.0  1.283766e+06\n"
     ]
    }
   ],
   "source": [
    "df = fetch_ohlcv('BTC/USDT', '2022-01-01 00:00:00', '2022-12-31 23:59:59')\n",
    "print(df.head())"
   ]
  },
  {
   "cell_type": "code",
   "execution_count": 5,
   "id": "ba900d35-4f61-4fc9-ad0c-a8333a5df961",
   "metadata": {},
   "outputs": [],
   "source": [
    "symbol = 'BTCUSDT'\n",
    "df = fetch_ohlcv(symbol, '2023-08-01 00:00:00', '2023-08-31 23:59:59')\n",
    "df.to_csv(symbol+'.csv')"
   ]
  },
  {
   "cell_type": "code",
   "execution_count": 6,
   "id": "bc979796-55eb-4d3c-a3f7-2b4fdb8dccfc",
   "metadata": {},
   "outputs": [
    {
     "name": "stdout",
     "output_type": "stream",
     "text": [
      "An error occurred: bybit does not have market symbol BTC-PERP\n"
     ]
    }
   ],
   "source": [
    "symbol = 'BTC-PERP'\n",
    "df = fetch_ohlcv(symbol, '2023-08-01 00:00:00', '2023-08-31 23:59:59')\n",
    "df.to_csv(symbol+'.csv')"
   ]
  },
  {
   "cell_type": "code",
   "execution_count": null,
   "id": "6c868fb5-3674-41cb-9b2c-c5310ddb400b",
   "metadata": {},
   "outputs": [],
   "source": []
  }
 ],
 "metadata": {
  "kernelspec": {
   "display_name": "Python 3 (ipykernel)",
   "language": "python",
   "name": "python3"
  },
  "language_info": {
   "codemirror_mode": {
    "name": "ipython",
    "version": 3
   },
   "file_extension": ".py",
   "mimetype": "text/x-python",
   "name": "python",
   "nbconvert_exporter": "python",
   "pygments_lexer": "ipython3",
   "version": "3.8.12"
  }
 },
 "nbformat": 4,
 "nbformat_minor": 5
}
